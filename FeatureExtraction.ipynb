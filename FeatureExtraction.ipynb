{
 "cells": [
  {
   "cell_type": "code",
   "execution_count": 1,
   "metadata": {},
   "outputs": [],
   "source": [
    "import numpy as np\n",
    "import pandas as pd\n",
    "from tqdm import tqdm\n",
    "from scipy.sparse import csr_matrix, save_npz, load_npz, find"
   ]
  },
  {
   "cell_type": "code",
   "execution_count": 2,
   "metadata": {},
   "outputs": [
    {
     "name": "stdout",
     "output_type": "stream",
     "text": [
      "total 5.1G\r\n",
      "16516401 drwxr-xr-x 5 mayukhpay mayukhpay 4.0K Dec 30 14:44 ..\r\n",
      "16516646 -rw-r--r-- 1 mayukhpay mayukhpay 105M Dec 30 13:40 test_25000_3000.csv\r\n",
      "16516621 drwxr-xr-x 2 mayukhpay mayukhpay 4.0K Dec 30 13:39 .\r\n",
      "16516645 -rw-r--r-- 1 mayukhpay mayukhpay  15M Dec 30 08:38 test_10000_1000.csv\r\n",
      "16516644 -rw-r--r-- 1 mayukhpay mayukhpay  44M Dec 30 07:43 sample_sparse_test_matrix.npz\r\n",
      "16516643 -rw-r--r-- 1 mayukhpay mayukhpay 556K Dec 30 07:39 sample_sparse_test_matrix_25000_3000.npz\r\n",
      "16516635 -rw-r--r-- 1 mayukhpay mayukhpay  92K Dec 30 07:38 sample_sparse_test_matrix_10000_1000.npz\r\n",
      "16516636 -rw-r--r-- 1 mayukhpay mayukhpay  92M Dec 30 04:26 train_25000_3000.csv\r\n",
      "16516641 -rw-r--r-- 1 mayukhpay mayukhpay 1.6M Dec 29 14:07 sample_sparse_matrix_25000_3000.npz\r\n",
      "16516614 -rw-r--r-- 1 mayukhpay mayukhpay  14M Dec 29 13:23 train_10000_1000.csv\r\n",
      "16516634 -rw-r--r-- 1 mayukhpay mayukhpay 160M Dec 28 08:40 sample_sparse_matrix.npz\r\n",
      "16516633 -rw-r--r-- 1 mayukhpay mayukhpay  18M Dec 28 08:36 sample_sparse_matrix_80000_10000.npz\r\n",
      "16516632 -rw-r--r-- 1 mayukhpay mayukhpay 233K Dec 28 08:31 sample_sparse_matrix_10000_1000.npz\r\n",
      "16516631 -rw-r--r-- 1 mayukhpay mayukhpay  44M Dec 26 15:56 reviews_test_sparse.npz\r\n",
      "16516622 -rw-r--r-- 1 mayukhpay mayukhpay 160M Dec 26 15:56 reviews_train_sparse.npz\r\n",
      "16516620 -rw-r--r-- 1 mayukhpay mayukhpay 499M Dec 26 15:37 test.csv\r\n",
      "16516615 -rw-r--r-- 1 mayukhpay mayukhpay 2.0G Dec 26 15:36 train.csv\r\n",
      "16516624 -rw-r--r-- 1 mayukhpay mayukhpay 473M Jul 19  2017 combined_data_1.txt\r\n",
      "16516625 -rw-r--r-- 1 mayukhpay mayukhpay 530M Jul 19  2017 combined_data_2.txt\r\n",
      "16516626 -rw-r--r-- 1 mayukhpay mayukhpay 444M Jul 19  2017 combined_data_3.txt\r\n",
      "16516627 -rw-r--r-- 1 mayukhpay mayukhpay 527M Jul 19  2017 combined_data_4.txt\r\n",
      "16516628 -rw-r--r-- 1 mayukhpay mayukhpay 565K Jul 19  2017 movie_titles.csv\r\n",
      "16516629 -rw-r--r-- 1 mayukhpay mayukhpay  11M Jul 19  2017 probe.txt\r\n",
      "16516630 -rw-r--r-- 1 mayukhpay mayukhpay  51M Jul 19  2017 qualifying.txt\r\n",
      "16516623 -rw-r--r-- 1 mayukhpay mayukhpay 5.8K Jul 19  2017 README\r\n"
     ]
    }
   ],
   "source": [
    "!ls -litah dataset/"
   ]
  },
  {
   "cell_type": "code",
   "execution_count": 3,
   "metadata": {},
   "outputs": [
    {
     "name": "stdout",
     "output_type": "stream",
     "text": [
      "1:\r\n",
      "1488844,3,2005-09-06\r\n",
      "822109,5,2005-05-13\r\n",
      "885013,4,2005-10-19\r\n",
      "30878,4,2005-12-26\r\n",
      "823519,3,2004-05-03\r\n",
      "893988,3,2005-11-17\r\n",
      "124105,4,2004-08-05\r\n",
      "1248029,3,2004-04-22\r\n",
      "1842128,4,2004-05-09\r\n"
     ]
    }
   ],
   "source": [
    "!head ./dataset/combined_data_1.txt"
   ]
  },
  {
   "cell_type": "markdown",
   "metadata": {},
   "source": [
    "### Processing the data into CSV"
   ]
  },
  {
   "cell_type": "code",
   "execution_count": 35,
   "metadata": {},
   "outputs": [
    {
     "name": "stderr",
     "output_type": "stream",
     "text": [
      "100%|██████████| 4/4 [02:56<00:00, 44.07s/it]\n"
     ]
    }
   ],
   "source": [
    "# Total runtime 2m 56s\n",
    "\n",
    "with open('reviews.csv', 'w') as csvFile:\n",
    "    for i in tqdm(range(1, 5), total=4):\n",
    "        with open('./dataset/combined_data_' + str(i) + '.txt', 'r') as fin:\n",
    "            for line in fin:\n",
    "                line = line.strip()\n",
    "                if line[-1] == ':':\n",
    "                    movie_id = line.split(':')[0]\n",
    "                else:\n",
    "                    row = [x for x in line.split(',')]\n",
    "                    row.insert(0, movie_id)\n",
    "                    csvFile.write(','.join(row))\n",
    "                    csvFile.write('\\n')"
   ]
  },
  {
   "cell_type": "code",
   "execution_count": 4,
   "metadata": {},
   "outputs": [],
   "source": [
    "reviews = pd.read_csv('reviews.csv', names=['movie_id', 'user_id', 'rating', 'time'])"
   ]
  },
  {
   "cell_type": "code",
   "execution_count": 5,
   "metadata": {},
   "outputs": [
    {
     "data": {
      "text/html": [
       "<div>\n",
       "<style scoped>\n",
       "    .dataframe tbody tr th:only-of-type {\n",
       "        vertical-align: middle;\n",
       "    }\n",
       "\n",
       "    .dataframe tbody tr th {\n",
       "        vertical-align: top;\n",
       "    }\n",
       "\n",
       "    .dataframe thead th {\n",
       "        text-align: right;\n",
       "    }\n",
       "</style>\n",
       "<table border=\"1\" class=\"dataframe\">\n",
       "  <thead>\n",
       "    <tr style=\"text-align: right;\">\n",
       "      <th></th>\n",
       "      <th>movie_id</th>\n",
       "      <th>user_id</th>\n",
       "      <th>rating</th>\n",
       "      <th>time</th>\n",
       "    </tr>\n",
       "  </thead>\n",
       "  <tbody>\n",
       "    <tr>\n",
       "      <th>0</th>\n",
       "      <td>1</td>\n",
       "      <td>1488844</td>\n",
       "      <td>3</td>\n",
       "      <td>2005-09-06</td>\n",
       "    </tr>\n",
       "    <tr>\n",
       "      <th>1</th>\n",
       "      <td>1</td>\n",
       "      <td>822109</td>\n",
       "      <td>5</td>\n",
       "      <td>2005-05-13</td>\n",
       "    </tr>\n",
       "    <tr>\n",
       "      <th>2</th>\n",
       "      <td>1</td>\n",
       "      <td>885013</td>\n",
       "      <td>4</td>\n",
       "      <td>2005-10-19</td>\n",
       "    </tr>\n",
       "    <tr>\n",
       "      <th>3</th>\n",
       "      <td>1</td>\n",
       "      <td>30878</td>\n",
       "      <td>4</td>\n",
       "      <td>2005-12-26</td>\n",
       "    </tr>\n",
       "    <tr>\n",
       "      <th>4</th>\n",
       "      <td>1</td>\n",
       "      <td>823519</td>\n",
       "      <td>3</td>\n",
       "      <td>2004-05-03</td>\n",
       "    </tr>\n",
       "  </tbody>\n",
       "</table>\n",
       "</div>"
      ],
      "text/plain": [
       "   movie_id  user_id  rating        time\n",
       "0         1  1488844       3  2005-09-06\n",
       "1         1   822109       5  2005-05-13\n",
       "2         1   885013       4  2005-10-19\n",
       "3         1    30878       4  2005-12-26\n",
       "4         1   823519       3  2004-05-03"
      ]
     },
     "execution_count": 5,
     "metadata": {},
     "output_type": "execute_result"
    }
   ],
   "source": [
    "reviews.head()"
   ]
  },
  {
   "cell_type": "code",
   "execution_count": 6,
   "metadata": {},
   "outputs": [
    {
     "data": {
      "text/plain": [
       "(100480507, 4)"
      ]
     },
     "execution_count": 6,
     "metadata": {},
     "output_type": "execute_result"
    }
   ],
   "source": [
    "reviews.shape"
   ]
  },
  {
   "cell_type": "code",
   "execution_count": 7,
   "metadata": {},
   "outputs": [
    {
     "data": {
      "text/plain": [
       "count    1.004805e+08\n",
       "mean     3.604290e+00\n",
       "std      1.085219e+00\n",
       "min      1.000000e+00\n",
       "25%      3.000000e+00\n",
       "50%      4.000000e+00\n",
       "75%      4.000000e+00\n",
       "max      5.000000e+00\n",
       "Name: rating, dtype: float64"
      ]
     },
     "execution_count": 7,
     "metadata": {},
     "output_type": "execute_result"
    }
   ],
   "source": [
    "reviews.rating.describecribe()"
   ]
  },
  {
   "cell_type": "code",
   "execution_count": 8,
   "metadata": {},
   "outputs": [
    {
     "data": {
      "text/plain": [
       "movie_id    False\n",
       "user_id     False\n",
       "rating      False\n",
       "time        False\n",
       "dtype: bool"
      ]
     },
     "execution_count": 8,
     "metadata": {},
     "output_type": "execute_result"
    }
   ],
   "source": [
    "reviews.isna().any()"
   ]
  },
  {
   "cell_type": "code",
   "execution_count": 9,
   "metadata": {},
   "outputs": [
    {
     "data": {
      "text/plain": [
       "movie_id    False\n",
       "user_id     False\n",
       "rating      False\n",
       "time        False\n",
       "dtype: bool"
      ]
     },
     "execution_count": 9,
     "metadata": {},
     "output_type": "execute_result"
    }
   ],
   "source": [
    "reviews.isnull().any()"
   ]
  },
  {
   "cell_type": "code",
   "execution_count": 10,
   "metadata": {},
   "outputs": [
    {
     "name": "stdout",
     "output_type": "stream",
     "text": [
      "0\n"
     ]
    }
   ],
   "source": [
    "duplicates = reviews.duplicated(['movie_id', 'user_id', 'rating'])\n",
    "print(sum(duplicates))"
   ]
  },
  {
   "cell_type": "code",
   "execution_count": 12,
   "metadata": {},
   "outputs": [
    {
     "name": "stdout",
     "output_type": "stream",
     "text": [
      "Number of reviews by users: 100480507\n",
      "Number of unique users: 480189\n",
      "Number of unique movies: 17770\n"
     ]
    }
   ],
   "source": [
    "print('Number of reviews by users: {}'.format(reviews.shape[0]))\n",
    "print('Number of unique users: {}'.format(reviews.user_id.unique().shape[0]))\n",
    "print('Number of unique movies: {}'.format(reviews.movie_id.unique().shape[0]))"
   ]
  },
  {
   "cell_type": "markdown",
   "metadata": {},
   "source": [
    "### Temporal Splitting of data in train-test"
   ]
  },
  {
   "cell_type": "code",
   "execution_count": 13,
   "metadata": {},
   "outputs": [],
   "source": [
    "reviews.sort_values('time', ascending=True, inplace=True)"
   ]
  },
  {
   "cell_type": "code",
   "execution_count": 14,
   "metadata": {},
   "outputs": [
    {
     "data": {
      "text/html": [
       "<div>\n",
       "<style scoped>\n",
       "    .dataframe tbody tr th:only-of-type {\n",
       "        vertical-align: middle;\n",
       "    }\n",
       "\n",
       "    .dataframe tbody tr th {\n",
       "        vertical-align: top;\n",
       "    }\n",
       "\n",
       "    .dataframe thead th {\n",
       "        text-align: right;\n",
       "    }\n",
       "</style>\n",
       "<table border=\"1\" class=\"dataframe\">\n",
       "  <thead>\n",
       "    <tr style=\"text-align: right;\">\n",
       "      <th></th>\n",
       "      <th>movie_id</th>\n",
       "      <th>user_id</th>\n",
       "      <th>rating</th>\n",
       "      <th>time</th>\n",
       "    </tr>\n",
       "  </thead>\n",
       "  <tbody>\n",
       "    <tr>\n",
       "      <th>56431994</th>\n",
       "      <td>10341</td>\n",
       "      <td>510180</td>\n",
       "      <td>4</td>\n",
       "      <td>1999-11-11</td>\n",
       "    </tr>\n",
       "    <tr>\n",
       "      <th>9056171</th>\n",
       "      <td>1798</td>\n",
       "      <td>510180</td>\n",
       "      <td>5</td>\n",
       "      <td>1999-11-11</td>\n",
       "    </tr>\n",
       "    <tr>\n",
       "      <th>58698779</th>\n",
       "      <td>10774</td>\n",
       "      <td>510180</td>\n",
       "      <td>3</td>\n",
       "      <td>1999-11-11</td>\n",
       "    </tr>\n",
       "    <tr>\n",
       "      <th>48101611</th>\n",
       "      <td>8651</td>\n",
       "      <td>510180</td>\n",
       "      <td>2</td>\n",
       "      <td>1999-11-11</td>\n",
       "    </tr>\n",
       "    <tr>\n",
       "      <th>81893208</th>\n",
       "      <td>14660</td>\n",
       "      <td>510180</td>\n",
       "      <td>2</td>\n",
       "      <td>1999-11-11</td>\n",
       "    </tr>\n",
       "  </tbody>\n",
       "</table>\n",
       "</div>"
      ],
      "text/plain": [
       "          movie_id  user_id  rating        time\n",
       "56431994     10341   510180       4  1999-11-11\n",
       "9056171       1798   510180       5  1999-11-11\n",
       "58698779     10774   510180       3  1999-11-11\n",
       "48101611      8651   510180       2  1999-11-11\n",
       "81893208     14660   510180       2  1999-11-11"
      ]
     },
     "execution_count": 14,
     "metadata": {},
     "output_type": "execute_result"
    }
   ],
   "source": [
    "reviews.head()"
   ]
  },
  {
   "cell_type": "code",
   "execution_count": 15,
   "metadata": {},
   "outputs": [],
   "source": [
    "reviews_train = reviews.iloc[:int(reviews.shape[0] * 0.80)]\n",
    "reviews_test = reviews.iloc[int(reviews.shape[0]*0.80):]"
   ]
  },
  {
   "cell_type": "code",
   "execution_count": 16,
   "metadata": {},
   "outputs": [
    {
     "data": {
      "text/plain": [
       "(80384405, 4)"
      ]
     },
     "execution_count": 16,
     "metadata": {},
     "output_type": "execute_result"
    }
   ],
   "source": [
    "reviews_train.shape"
   ]
  },
  {
   "cell_type": "code",
   "execution_count": 17,
   "metadata": {},
   "outputs": [
    {
     "data": {
      "text/plain": [
       "(20096102, 4)"
      ]
     },
     "execution_count": 17,
     "metadata": {},
     "output_type": "execute_result"
    }
   ],
   "source": [
    "reviews_test.shape"
   ]
  },
  {
   "cell_type": "code",
   "execution_count": 18,
   "metadata": {},
   "outputs": [],
   "source": [
    "reviews_train.to_csv('./dataset/train.csv', index=False)\n",
    "reviews_test.to_csv('./dataset/test.csv', index=False)"
   ]
  },
  {
   "cell_type": "code",
   "execution_count": 21,
   "metadata": {},
   "outputs": [
    {
     "name": "stderr",
     "output_type": "stream",
     "text": [
      "/opt/anaconda3/lib/python3.7/site-packages/pandas/core/frame.py:3697: SettingWithCopyWarning: \n",
      "A value is trying to be set on a copy of a slice from a DataFrame\n",
      "\n",
      "See the caveats in the documentation: http://pandas.pydata.org/pandas-docs/stable/indexing.html#indexing-view-versus-copy\n",
      "  errors=errors)\n"
     ]
    }
   ],
   "source": [
    "reviews_train.drop('time', inplace=True, axis=1)\n",
    "reviews_test.drop('time', inplace=True, axis=1)"
   ]
  },
  {
   "cell_type": "code",
   "execution_count": 29,
   "metadata": {},
   "outputs": [],
   "source": [
    "reviews_train_sparse = csr_matrix((reviews_train.rating.values, (reviews_train.user_id.values, \n",
    "                                                                 reviews_train.movie_id.values)),)\n",
    "reviews_test_sparse = csr_matrix((reviews_test.rating.values, (reviews_test.user_id.values, \n",
    "                                                                 reviews_test.movie_id.values)),)"
   ]
  },
  {
   "cell_type": "code",
   "execution_count": 32,
   "metadata": {},
   "outputs": [],
   "source": [
    "save_npz('./dataset/reviews_train_sparse.npz', reviews_train_sparse)\n",
    "save_npz('./dataset/reviews_test_sparse.npz', reviews_test_sparse)"
   ]
  },
  {
   "cell_type": "code",
   "execution_count": 30,
   "metadata": {},
   "outputs": [
    {
     "name": "stdout",
     "output_type": "stream",
     "text": [
      "Sparsity Of Test matrix : 99.8292709259195 % \n"
     ]
    }
   ],
   "source": [
    "us, mv = reviews_train_sparse.shape\n",
    "elem = reviews_train_sparse.count_nonzero()\n",
    "print(\"Sparsity Of Test matrix : {} % \".format((1-(elem/(us*mv))) * 100))"
   ]
  },
  {
   "cell_type": "code",
   "execution_count": 31,
   "metadata": {},
   "outputs": [
    {
     "name": "stdout",
     "output_type": "stream",
     "text": [
      "Sparsity Of Test matrix : 99.95731772988694 % \n"
     ]
    }
   ],
   "source": [
    "us, mv = reviews_test_sparse.shape\n",
    "elem = reviews_test_sparse.count_nonzero()\n",
    "print(\"Sparsity Of Test matrix : {} % \".format((1-(elem/(us*mv))) * 100))"
   ]
  },
  {
   "cell_type": "markdown",
   "metadata": {},
   "source": [
    "### Loading the dataset"
   ]
  },
  {
   "cell_type": "code",
   "execution_count": 6,
   "metadata": {},
   "outputs": [],
   "source": [
    "reviews_train_sparse = load_npz('./dataset/reviews_train_sparse.npz')\n",
    "reviews_test_sparse = load_npz('./dataset/reviews_test_sparse.npz')"
   ]
  },
  {
   "cell_type": "code",
   "execution_count": 7,
   "metadata": {},
   "outputs": [
    {
     "data": {
      "text/plain": [
       "(2649430, 17771)"
      ]
     },
     "execution_count": 7,
     "metadata": {},
     "output_type": "execute_result"
    }
   ],
   "source": [
    "reviews_train_sparse.get_shape()"
   ]
  },
  {
   "cell_type": "code",
   "execution_count": 8,
   "metadata": {},
   "outputs": [
    {
     "data": {
      "text/plain": [
       "(2649430, 17771)"
      ]
     },
     "execution_count": 8,
     "metadata": {},
     "output_type": "execute_result"
    }
   ],
   "source": [
    "reviews_test_sparse.get_shape()"
   ]
  },
  {
   "cell_type": "markdown",
   "metadata": {},
   "source": [
    "### HandCrafted Features"
   ]
  },
  {
   "cell_type": "code",
   "execution_count": 4,
   "metadata": {},
   "outputs": [],
   "source": [
    "# Code Courtesy : AAIC\n",
    "\n",
    "def get_average_ratings(sparse_matrix, of_users):\n",
    "    # average ratings of user/axes\n",
    "    ax = 1 if of_users else 0 # 1 - User axes,0 - Movie axes\n",
    "    # \".A1\" is for converting Column_Matrix to 1-D numpy array \n",
    "    sum_of_ratings = sparse_matrix.sum(axis=ax).A1\n",
    "    # Boolean matrix of ratings ( whether a user rated that movie or not)\n",
    "    is_rated = sparse_matrix!=0\n",
    "    # no of ratings that each user OR movie..\n",
    "    no_of_ratings = is_rated.sum(axis=ax).A1\n",
    "    # max_user  and max_movie ids in sparse matrix \n",
    "    u,m = sparse_matrix.shape\n",
    "    # creae a dictonary of users and their average ratigns..\n",
    "    average_ratings = { i : sum_of_ratings[i]/no_of_ratings[i]\n",
    "                                 for i in range(u if of_users else m) \n",
    "                                    if no_of_ratings[i] !=0}\n",
    "\n",
    "    # return that dictionary of average ratings\n",
    "    return average_ratings"
   ]
  },
  {
   "cell_type": "code",
   "execution_count": 5,
   "metadata": {},
   "outputs": [],
   "source": [
    "# Code Courtesy : Patially taken from AAIC & modified for better felxibility\n",
    "\n",
    "def get_sample_sparse_matrix(sparse_matrix, nusers=-1, nmovies=-1, \n",
    "                             verbose=True, save=True, **kwargs):\n",
    "    \"\"\"\n",
    "        This would create a sample of the `sparse_matrix` consisting of\n",
    "        `nmovies` and `nusers` and save it to disk if `save` is True. If `save`\n",
    "        is kept as default and file name is not mentioned, it stores the file with\n",
    "        a default name and number of user and the movies appened with it.\n",
    "        \n",
    "        :param sparse_matrix: The sparse matrix that is passed <scipy.sparse.matrix>\n",
    "        \n",
    "        :param nusers: (default = -1) Number of users to consider. If\n",
    "                        kept default, all the users are considered <int>\n",
    "\n",
    "        :param nmovies: (default = - 1) Number of movies to consider. If\n",
    "                        kept default, all the movies are considered. <int>\n",
    "\n",
    "        :param verbose: (default = True) Verbose output <bool>\n",
    "        \n",
    "        :param save: (default = True) Save to the disk <bool>\n",
    "    \"\"\"\n",
    "\n",
    "    row_index, col_index, ratings = find(sparse_matrix)\n",
    "    users = np.unique(row_index)\n",
    "    movies = np.unique(col_index)\n",
    "    \n",
    "    if nmovies == -1 and nusers == -1:\n",
    "        print('No sampling is being performed')\n",
    "    \n",
    "    if verbose:\n",
    "        print(\"Original Matrix : (users, movies) -- ({} {})\".format(len(users), len(movies)))\n",
    "        print(\"Original Matrix : Ratings -- {}\\n\".format(len(ratings)))\n",
    "\n",
    "    np.random.seed(15)\n",
    "    if nusers != -1:\n",
    "        sample_users = np.random.choice(users, nusers, replace=False)\n",
    "    else:\n",
    "        sample_users = users\n",
    "\n",
    "    if nmovies != -1:\n",
    "        sample_movies = np.random.choice(movies, nmovies, replace=False)\n",
    "    else:\n",
    "        sample_movies = movies\n",
    "\n",
    "    mask = np.logical_and( np.isin(row_index, sample_users),\n",
    "                      np.isin(col_index, sample_movies) )\n",
    "    \n",
    "    sample_sparse_matrix = csr_matrix((ratings[mask], (row_index[mask], col_index[mask])),\n",
    "                                             shape=(max(sample_users)+1, max(sample_movies)+1))\n",
    "\n",
    "    if verbose:\n",
    "        print(\"Sampled Matrix : (users, movies) -- ({} {})\".format(len(sample_users), len(sample_movies)))\n",
    "        print(\"Sampled Matrix : Ratings --\", format(ratings[mask].shape[0]))\n",
    "    \n",
    "    if save:\n",
    "        if verbose:\n",
    "            print('Saving it into disk for further usage..')\n",
    "        path = kwargs.get('path', './dataset/')\n",
    "        file = kwargs.get('file', 'sample_sparse_matrix')\n",
    "        u = '_' + str(nusers)\n",
    "        if nusers == -1:\n",
    "            u = ''\n",
    "        m = '_' + str(nmovies)\n",
    "        if nmovies == -1:\n",
    "            m = ''\n",
    "        \n",
    "        file += u + m\n",
    "        save_npz(path + file, sample_sparse_matrix)\n",
    "    else:\n",
    "        return sample_sparse_matrix"
   ]
  },
  {
   "cell_type": "code",
   "execution_count": 46,
   "metadata": {},
   "outputs": [
    {
     "name": "stdout",
     "output_type": "stream",
     "text": [
      "Original Matrix : (users, movies) -- (405041 17424)\n",
      "Original Matrix : Ratings -- 80384405\n",
      "\n",
      "Sampled Matrix : (users, movies) -- (10000 1000)\n",
      "Sampled Matrix : Ratings -- 129286\n",
      "Saving it into disk for further usage..\n",
      "CPU times: user 1min 19s, sys: 8.24 s, total: 1min 27s\n",
      "Wall time: 1min 27s\n"
     ]
    }
   ],
   "source": [
    "%time get_sample_sparse_matrix(reviews_train_sparse, nusers=10000, nmovies=1000)"
   ]
  },
  {
   "cell_type": "code",
   "execution_count": 10,
   "metadata": {},
   "outputs": [
    {
     "name": "stdout",
     "output_type": "stream",
     "text": [
      "Original Matrix : (users, movies) -- (349312 17757)\n",
      "Original Matrix : Ratings -- 20096102\n",
      "\n",
      "Sampled Matrix : (users, movies) -- (10000 1000)\n",
      "Sampled Matrix : Ratings -- 36017\n",
      "Saving it into disk for further usage..\n",
      "CPU times: user 14.6 s, sys: 1.86 s, total: 16.4 s\n",
      "Wall time: 16.5 s\n"
     ]
    }
   ],
   "source": [
    "%%time \n",
    "get_sample_sparse_matrix(reviews_test_sparse, nusers=10000, nmovies=1000, \n",
    "                         file='sample_sparse_test_matrix')"
   ]
  },
  {
   "cell_type": "code",
   "execution_count": 48,
   "metadata": {},
   "outputs": [
    {
     "name": "stdout",
     "output_type": "stream",
     "text": [
      "./dataset/sample_sparse_matrix_10000_1000.npz\r\n"
     ]
    }
   ],
   "source": [
    "!ls ./dataset/sample_sparse_matrix_10000_1000.npz  # Dataset of 10k users and 1k movies"
   ]
  },
  {
   "cell_type": "code",
   "execution_count": 11,
   "metadata": {},
   "outputs": [
    {
     "name": "stdout",
     "output_type": "stream",
     "text": [
      "./dataset/sample_sparse_test_matrix_10000_1000.npz\r\n"
     ]
    }
   ],
   "source": [
    "!ls ./dataset/sample_sparse_test_matrix_10000_1000.npz"
   ]
  },
  {
   "cell_type": "code",
   "execution_count": 144,
   "metadata": {},
   "outputs": [
    {
     "name": "stdout",
     "output_type": "stream",
     "text": [
      "Original Matrix : (users, movies) -- (405041 17424)\n",
      "Original Matrix : Ratings -- 80384405\n",
      "\n",
      "Sampled Matrix : (users, movies) -- (25000 3000)\n",
      "Sampled Matrix : Ratings -- 856986\n",
      "Saving it into disk for further usage..\n",
      "CPU times: user 1min 16s, sys: 7.86 s, total: 1min 24s\n",
      "Wall time: 1min 24s\n"
     ]
    }
   ],
   "source": [
    "%time get_sample_sparse_matrix(reviews_train_sparse, nusers=25000, nmovies=3000)"
   ]
  },
  {
   "cell_type": "code",
   "execution_count": 12,
   "metadata": {},
   "outputs": [
    {
     "name": "stdout",
     "output_type": "stream",
     "text": [
      "Original Matrix : (users, movies) -- (349312 17757)\n",
      "Original Matrix : Ratings -- 20096102\n",
      "\n",
      "Sampled Matrix : (users, movies) -- (25000 3000)\n",
      "Sampled Matrix : Ratings -- 261693\n",
      "Saving it into disk for further usage..\n",
      "CPU times: user 15 s, sys: 1.78 s, total: 16.8 s\n",
      "Wall time: 16.8 s\n"
     ]
    }
   ],
   "source": [
    "%%time\n",
    "get_sample_sparse_matrix(reviews_test_sparse, nusers=25000, nmovies=3000,\n",
    "                              file='sample_sparse_test_matrix')"
   ]
  },
  {
   "cell_type": "code",
   "execution_count": 145,
   "metadata": {},
   "outputs": [
    {
     "name": "stdout",
     "output_type": "stream",
     "text": [
      "./dataset/sample_sparse_matrix_25000_3000.npz\r\n"
     ]
    }
   ],
   "source": [
    "!ls ./dataset/sample_sparse_matrix_25000_3000.npz # Dataset of 25k users and 3k movies"
   ]
  },
  {
   "cell_type": "code",
   "execution_count": 13,
   "metadata": {},
   "outputs": [
    {
     "name": "stdout",
     "output_type": "stream",
     "text": [
      "./dataset/sample_sparse_test_matrix_25000_3000.npz\r\n"
     ]
    }
   ],
   "source": [
    "!ls ./dataset/sample_sparse_test_matrix_25000_3000.npz"
   ]
  },
  {
   "cell_type": "code",
   "execution_count": 51,
   "metadata": {},
   "outputs": [
    {
     "name": "stdout",
     "output_type": "stream",
     "text": [
      "No sampling is being performed\n",
      "Original Matrix : (users, movies) -- (405041 17424)\n",
      "Original Matrix : Ratings -- 80384405\n",
      "\n",
      "Sampled Matrix : (users, movies) -- (405041 17424)\n",
      "Sampled Matrix : Ratings -- 80384405\n",
      "Saving it into disk for further usage..\n",
      "CPU times: user 2min 21s, sys: 11.7 s, total: 2min 32s\n",
      "Wall time: 2min 38s\n"
     ]
    }
   ],
   "source": [
    "%time get_sample_sparse_matrix(reviews_train_sparse)"
   ]
  },
  {
   "cell_type": "code",
   "execution_count": 53,
   "metadata": {},
   "outputs": [
    {
     "name": "stdout",
     "output_type": "stream",
     "text": [
      "./dataset/sample_sparse_matrix.npz\r\n"
     ]
    }
   ],
   "source": [
    "!ls ./dataset/sample_sparse_matrix.npz # The complete dataset"
   ]
  },
  {
   "cell_type": "code",
   "execution_count": 15,
   "metadata": {},
   "outputs": [
    {
     "name": "stdout",
     "output_type": "stream",
     "text": [
      "No sampling is being performed\n",
      "Original Matrix : (users, movies) -- (349312 17757)\n",
      "Original Matrix : Ratings -- 20096102\n",
      "\n",
      "Sampled Matrix : (users, movies) -- (349312 17757)\n",
      "Sampled Matrix : Ratings -- 20096102\n",
      "Saving it into disk for further usage..\n",
      "CPU times: user 33.9 s, sys: 2.81 s, total: 36.7 s\n",
      "Wall time: 37 s\n"
     ]
    }
   ],
   "source": [
    "%%time \n",
    "get_sample_sparse_matrix(reviews_test_sparse, file='sample_sparse_test_matrix')"
   ]
  },
  {
   "cell_type": "code",
   "execution_count": 16,
   "metadata": {},
   "outputs": [
    {
     "name": "stdout",
     "output_type": "stream",
     "text": [
      "./dataset/sample_sparse_test_matrix.npz\r\n"
     ]
    }
   ],
   "source": [
    "!ls ./dataset/sample_sparse_test_matrix.npz"
   ]
  },
  {
   "cell_type": "markdown",
   "metadata": {},
   "source": [
    "### Create the dataset on different samples"
   ]
  },
  {
   "cell_type": "markdown",
   "metadata": {},
   "source": [
    "- Add Global Average                                 **1 dimension**\n",
    "- Add the User Average                               **1 dimension**\n",
    "- Add the movie Average                              **1 dimension**\n",
    "- Add the top 10 similar movies                      **10 dimension**\n",
    "- Add the top 10 similar users                       **10 dimension**\n",
    "- Add other columns like movie id, user id, rating   **3/4 dimension**"
   ]
  },
  {
   "cell_type": "code",
   "execution_count": 33,
   "metadata": {},
   "outputs": [],
   "source": [
    "from sklearn.metrics.pairwise import cosine_similarity\n",
    "import csv\n",
    "from tqdm import tqdm\n",
    "from multiprocessing import Manager, Process"
   ]
  },
  {
   "cell_type": "markdown",
   "metadata": {},
   "source": [
    "#### On the training dataset of dimension (10000 x 1000)"
   ]
  },
  {
   "cell_type": "code",
   "execution_count": 28,
   "metadata": {},
   "outputs": [],
   "source": [
    "sample_train_sparse_matrix = load_npz('./dataset/sample_sparse_matrix_10000_1000.npz')"
   ]
  },
  {
   "cell_type": "code",
   "execution_count": 29,
   "metadata": {},
   "outputs": [
    {
     "data": {
      "text/plain": [
       "(2649405, 17724)"
      ]
     },
     "execution_count": 29,
     "metadata": {},
     "output_type": "execute_result"
    }
   ],
   "source": [
    "sample_train_sparse_matrix.shape"
   ]
  },
  {
   "cell_type": "code",
   "execution_count": 111,
   "metadata": {},
   "outputs": [],
   "source": [
    "sample_train_users, sample_train_movies, sample_train_ratings = find(sample_train_sparse_matrix)"
   ]
  },
  {
   "cell_type": "code",
   "execution_count": 112,
   "metadata": {},
   "outputs": [
    {
     "data": {
      "text/plain": [
       "(129286,)"
      ]
     },
     "execution_count": 112,
     "metadata": {},
     "output_type": "execute_result"
    }
   ],
   "source": [
    "sample_train_users.shape"
   ]
  },
  {
   "cell_type": "code",
   "execution_count": 30,
   "metadata": {},
   "outputs": [
    {
     "data": {
      "text/plain": [
       "4.0"
      ]
     },
     "execution_count": 30,
     "metadata": {},
     "output_type": "execute_result"
    }
   ],
   "source": [
    "userAvg = get_average_ratings(sample_train_sparse_matrix, of_users=True)\n",
    "userAvg[704512]"
   ]
  },
  {
   "cell_type": "code",
   "execution_count": 31,
   "metadata": {},
   "outputs": [
    {
     "data": {
      "text/plain": [
       "4.092436974789916"
      ]
     },
     "execution_count": 31,
     "metadata": {},
     "output_type": "execute_result"
    }
   ],
   "source": [
    "movieAvg = get_average_ratings(sample_train_sparse_matrix, of_users=False)\n",
    "movieAvg[33]"
   ]
  },
  {
   "cell_type": "code",
   "execution_count": 32,
   "metadata": {},
   "outputs": [],
   "source": [
    "GAvg = sample_train_sparse_matrix.sum()/sample_train_sparse_matrix.count_nonzero()"
   ]
  },
  {
   "cell_type": "code",
   "execution_count": 46,
   "metadata": {},
   "outputs": [
    {
     "data": {
      "text/plain": [
       "129286"
      ]
     },
     "execution_count": 46,
     "metadata": {},
     "output_type": "execute_result"
    }
   ],
   "source": [
    "len(sample_train_ratings)"
   ]
  },
  {
   "cell_type": "code",
   "execution_count": 76,
   "metadata": {},
   "outputs": [
    {
     "data": {
      "text/plain": [
       "129294"
      ]
     },
     "execution_count": 76,
     "metadata": {},
     "output_type": "execute_result"
    }
   ],
   "source": [
    "18 * 7183"
   ]
  },
  {
   "cell_type": "code",
   "execution_count": 88,
   "metadata": {},
   "outputs": [
    {
     "name": "stdout",
     "output_type": "stream",
     "text": [
      "Worker = 3 is completed\n",
      "Worker = 10 is completed\n",
      "Worker = 6 is completed\n",
      "Worker = 8 is completed\n",
      "Worker = 14 is completed\n",
      "Worker = 16 is completed\n",
      "Worker = 13 is completed\n",
      "Worker = 12 is completed\n",
      "Worker = 9 is completed\n",
      "Worker = 0 is completed\n",
      "Worker = 2 is completed\n",
      "Worker = 17 is completed\n",
      "Worker = 7 is completed\n",
      "Worker = 5 is completed\n",
      "Worker = 11 is completed\n",
      "Worker = 15 is completed\n",
      "Worker = 4 is completed\n",
      "Worker = 1 is completed\n"
     ]
    }
   ],
   "source": [
    "# U = User Vector\n",
    "# M = Movie Vector\n",
    "# R = Rating Vector\n",
    "# with open('./dataset/train_10000_1000.csv', 'w') as csvFile:\n",
    "#     csvwriter = csv.writer(csvFile, delimiter=',', quotechar='|', quoting=csv.QUOTE_MINIMAL)\n",
    "\n",
    "# Code Runtime :- Almost 1 hours\n",
    "def get_train_data(worker, all_users, all_movies, all_ratings, trainsets):\n",
    "\n",
    "    for user, movie, rating in zip(all_users, \n",
    "                                    all_movies, \n",
    "                                    all_ratings):\n",
    "        \n",
    "#         print(user, movie, rating)\n",
    "        ## Get the ratings from top 10 similar users who rated the same movie ##\n",
    "        # Movie constant, users changing\n",
    "        row = []\n",
    "        U = sample_train_sparse_matrix[user] # movie vector the user\n",
    "        similar_users = cosine_similarity(U, sample_train_sparse_matrix).ravel()\n",
    "        # These are top users for the `user`\n",
    "        top_users_sorted = np.argsort(-similar_users)[1::]\n",
    "        # Now get the ratings for these top users for the `movie`\n",
    "        R_user = sample_train_sparse_matrix[top_users_sorted, movie].toarray().ravel()\n",
    "        R_user = R_user[R_user != 0][:10]\n",
    "        R_user = R_user.tolist()\n",
    "        R_user.extend([movieAvg[movie]] * (10 - len(R_user)))\n",
    "        ## Get the top ratings of the user who rated similar movies ##\n",
    "        # User constant, movies changing\n",
    "\n",
    "        M = sample_train_sparse_matrix[:, movie]\n",
    "        similar_movies = cosine_similarity(M.T, sample_train_sparse_matrix.T).ravel()\n",
    "        top_movies_sorted = np.argsort(-similar_movies)[1::]\n",
    "        R_movie = sample_train_sparse_matrix[user, top_movies_sorted].toarray().ravel()\n",
    "        R_movie = R_movie[R_movie != 0][:10]\n",
    "        R_movie = R_movie.tolist()\n",
    "        R_movie.extend([userAvg[user]] * (10 - len(R_movie)))\n",
    "\n",
    "\n",
    "        row.extend([user, movie])\n",
    "        row.extend(R_user)\n",
    "        row.extend(R_movie)\n",
    "        row.extend([movieAvg[movie], userAvg[user], GAvg])\n",
    "        row.extend([rating])\n",
    "\n",
    "        trainsets.append(row)\n",
    "    print('Worker = {} is completed'.format(worker))\n",
    "\n",
    "if __name__ == '__main__':\n",
    "    manager = Manager()\n",
    "    trainsets = manager.list()\n",
    "    jobs = []\n",
    "    for i in range(18):\n",
    "        p = Process(target=get_train_data, args=(i, \n",
    "                                                 sample_train_users[i*7183:(i+1)*7183],\n",
    "                                                 sample_train_movies[i*7183:(i+1)*7183],\n",
    "                                                 sample_train_ratings[i*7183:(i+1)*7183],\n",
    "                                                 trainsets,))\n",
    "        jobs.append(p)\n",
    "        p.start()\n",
    "    for proc in jobs:\n",
    "        proc.join()"
   ]
  },
  {
   "cell_type": "code",
   "execution_count": 89,
   "metadata": {},
   "outputs": [],
   "source": [
    "assert(len(trainsets) == len(sample_train_users))"
   ]
  },
  {
   "cell_type": "code",
   "execution_count": null,
   "metadata": {},
   "outputs": [],
   "source": [
    "with open('./dataset/train_10000_1000.csv', 'w') as csvFile:\n",
    "    csvwriter = csv.writer(csvFile, delimiter=',', quotechar='|', quoting=csv.QUOTE_MINIMAL)\n",
    "    for each in tqdm(list(trainsets), total=len(sample_train_users)):\n",
    "        csvwriter.writerow(each)"
   ]
  },
  {
   "cell_type": "code",
   "execution_count": 93,
   "metadata": {},
   "outputs": [
    {
     "name": "stdout",
     "output_type": "stream",
     "text": [
      "129286 ./dataset/train_10000_1000.csv\r\n"
     ]
    }
   ],
   "source": [
    "!wc -l ./dataset/train_10000_1000.csv"
   ]
  },
  {
   "cell_type": "markdown",
   "metadata": {},
   "source": [
    "#### On the testing dataset of dimension (10000 x 1000)"
   ]
  },
  {
   "cell_type": "code",
   "execution_count": 36,
   "metadata": {},
   "outputs": [],
   "source": [
    "sample_test_sparse_matrix = load_npz('./dataset/sample_sparse_test_matrix_10000_1000.npz')"
   ]
  },
  {
   "cell_type": "code",
   "execution_count": 37,
   "metadata": {},
   "outputs": [
    {
     "data": {
      "text/plain": [
       "(2649405, 17760)"
      ]
     },
     "execution_count": 37,
     "metadata": {},
     "output_type": "execute_result"
    }
   ],
   "source": [
    "sample_test_sparse_matrix.shape"
   ]
  },
  {
   "cell_type": "code",
   "execution_count": 38,
   "metadata": {},
   "outputs": [],
   "source": [
    "sample_test_users, sample_test_movies, sample_test_ratings = find(sample_test_sparse_matrix)"
   ]
  },
  {
   "cell_type": "code",
   "execution_count": 39,
   "metadata": {},
   "outputs": [
    {
     "data": {
      "text/plain": [
       "36017"
      ]
     },
     "execution_count": 39,
     "metadata": {},
     "output_type": "execute_result"
    }
   ],
   "source": [
    "len(sample_test_users)"
   ]
  },
  {
   "cell_type": "code",
   "execution_count": 51,
   "metadata": {},
   "outputs": [
    {
     "data": {
      "text/plain": [
       "36018"
      ]
     },
     "execution_count": 51,
     "metadata": {},
     "output_type": "execute_result"
    }
   ],
   "source": [
    "18 * 2001"
   ]
  },
  {
   "cell_type": "code",
   "execution_count": 53,
   "metadata": {},
   "outputs": [
    {
     "name": "stdout",
     "output_type": "stream",
     "text": [
      "Worker = 1 is completed\n",
      "Worker = 13 is completed\n",
      "Worker = 12 is completed\n",
      "Worker = 3 is completed\n",
      "Worker = 5 is completed\n",
      "Worker = 2 is completed\n",
      "Worker = 10 is completed\n",
      "Worker = 8 is completed\n",
      "Worker = 14 is completed\n",
      "Worker = 7 is completed\n",
      "Worker = 4 is completed\n",
      "Worker = 0 is completed\n",
      "Worker = 15 is completed\n",
      "Worker = 9 is completed\n",
      "Worker = 11 is completed\n",
      "Worker = 17 is completed\n",
      "Worker = 16 is completed\n",
      "Worker = 6 is completed\n",
      "CPU times: user 100 ms, sys: 368 ms, total: 468 ms\n",
      "Wall time: 15min 47s\n"
     ]
    }
   ],
   "source": [
    "%%time\n",
    "def get_test_data(worker, all_users, all_movies, all_ratings, testsets):\n",
    "\n",
    "    for user, movie, rating in zip(all_users, \n",
    "                                    all_movies, \n",
    "                                    all_ratings):\n",
    "        \n",
    "        ## Get the ratings from top 10 similar users who rated the same movie ##\n",
    "        # Movie constant, users changing\n",
    "        row = []\n",
    "        try:\n",
    "            U = sample_train_sparse_matrix[user] # movie vector the user\n",
    "            similar_users = cosine_similarity(U, sample_train_sparse_matrix).ravel()\n",
    "            # These are top users for the `user`\n",
    "            top_users_sorted = np.argsort(-similar_users)[1::]\n",
    "            # Now get the ratings for these top users for the `movie`\n",
    "            R_user = sample_train_sparse_matrix[top_users_sorted, movie].toarray().ravel()\n",
    "            R_user = R_user[R_user != 0][:10]\n",
    "            R_user = R_user.tolist()\n",
    "            R_user.extend([movieAvg[movie]] * (10 - len(R_user)))\n",
    "        except (IndexError, KeyError):\n",
    "            R_user.extend([GAvg] * (10 - len(R_user)))\n",
    "        # ~~~~~~~~~~~~~~~~~~~~~~~~~~~~~~~~~~~~~~~~~~~~~~~~~~~~~~~~~~~~~ #\n",
    "        ## Get the top ratings of the user who rated similar movies ##\n",
    "        # User constant, movies changing\n",
    "        \n",
    "        try:\n",
    "            M = sample_train_sparse_matrix[:, movie]\n",
    "            similar_movies = cosine_similarity(M.T, sample_train_sparse_matrix.T).ravel()\n",
    "            top_movies_sorted = np.argsort(-similar_movies)[1::]\n",
    "            R_movie = sample_train_sparse_matrix[user, top_movies_sorted].toarray().ravel()\n",
    "            R_movie = R_movie[R_movie != 0][:10]\n",
    "            R_movie = R_movie.tolist()\n",
    "            R_movie.extend([userAvg[user]] * (10 - len(R_movie)))\n",
    "        except (IndexError, KeyError):\n",
    "            R_movie.extend([GAvg] * (10 - len(R_movie)))\n",
    "        # ~~~~~~~~~~~~~~~~~~~~~~~~~~~~~~~~~~~~~~~~~~~~~~~~~~~~~~~~~~~~~ #\n",
    "\n",
    "        row.extend([user, movie])\n",
    "        row.extend(R_user)\n",
    "        row.extend(R_movie)\n",
    "        try:\n",
    "            mavg = movieAvg[movie]\n",
    "        except KeyError:\n",
    "            mavg = GAvg\n",
    "        try:\n",
    "            uavg = userAvg[user]\n",
    "        except KeyError:\n",
    "            uavg = GAvg\n",
    "        \n",
    "        row.extend([mavg, uavg, GAvg])\n",
    "        row.extend([rating])\n",
    "\n",
    "        testsets.append(row)\n",
    "    print('Worker = {} is completed'.format(worker))\n",
    "\n",
    "if __name__ == '__main__':\n",
    "    manager = Manager()\n",
    "    testsets = manager.list()\n",
    "    jobs = []\n",
    "    for i in range(18):\n",
    "        p = Process(target=get_test_data, args=(i, \n",
    "                                                 sample_test_users[i*2001:(i+1)*2001],\n",
    "                                                 sample_test_movies[i*2001:(i+1)*2001],\n",
    "                                                 sample_test_ratings[i*2001:(i+1)*2001],\n",
    "                                                 testsets,))\n",
    "        jobs.append(p)\n",
    "        p.start()\n",
    "    for proc in jobs:\n",
    "        proc.join()"
   ]
  },
  {
   "cell_type": "code",
   "execution_count": 54,
   "metadata": {},
   "outputs": [],
   "source": [
    "assert(len(testsets) == len(sample_test_users))"
   ]
  },
  {
   "cell_type": "code",
   "execution_count": 55,
   "metadata": {},
   "outputs": [
    {
     "name": "stderr",
     "output_type": "stream",
     "text": [
      "100%|██████████| 36017/36017 [00:00<00:00, 36265.54it/s]\n"
     ]
    }
   ],
   "source": [
    "with open('./dataset/test_10000_1000.csv', 'w') as csvFile:\n",
    "    csvwriter = csv.writer(csvFile, delimiter=',', quotechar='|', quoting=csv.QUOTE_MINIMAL)\n",
    "    for each in tqdm(list(testsets), total=len(sample_test_users)):\n",
    "        csvwriter.writerow(each)"
   ]
  },
  {
   "cell_type": "markdown",
   "metadata": {},
   "source": [
    "#### On the training dataset of dimension (25000 x 3000)"
   ]
  },
  {
   "cell_type": "code",
   "execution_count": 60,
   "metadata": {},
   "outputs": [],
   "source": [
    "sample_train_sparse_matrix = load_npz('./dataset/sample_sparse_matrix_25000_3000.npz')"
   ]
  },
  {
   "cell_type": "code",
   "execution_count": 62,
   "metadata": {},
   "outputs": [],
   "source": [
    "sample_train_users, sample_train_movies, sample_train_ratings = find(sample_train_sparse_matrix)"
   ]
  },
  {
   "cell_type": "code",
   "execution_count": 63,
   "metadata": {},
   "outputs": [
    {
     "data": {
      "text/plain": [
       "(856986,)"
      ]
     },
     "execution_count": 63,
     "metadata": {},
     "output_type": "execute_result"
    }
   ],
   "source": [
    "sample_train_users.shape"
   ]
  },
  {
   "cell_type": "code",
   "execution_count": 64,
   "metadata": {},
   "outputs": [],
   "source": [
    "userAvg = get_average_ratings(sample_train_sparse_matrix, of_users=True)"
   ]
  },
  {
   "cell_type": "code",
   "execution_count": 65,
   "metadata": {},
   "outputs": [
    {
     "data": {
      "text/plain": [
       "4.5"
      ]
     },
     "execution_count": 65,
     "metadata": {},
     "output_type": "execute_result"
    }
   ],
   "source": [
    "userAvg[917504]"
   ]
  },
  {
   "cell_type": "code",
   "execution_count": 66,
   "metadata": {},
   "outputs": [],
   "source": [
    "movieAvg = get_average_ratings(sample_train_sparse_matrix, of_users=False)"
   ]
  },
  {
   "cell_type": "code",
   "execution_count": 67,
   "metadata": {},
   "outputs": [
    {
     "data": {
      "text/plain": [
       "2.2017543859649122"
      ]
     },
     "execution_count": 67,
     "metadata": {},
     "output_type": "execute_result"
    }
   ],
   "source": [
    "movieAvg[16389]"
   ]
  },
  {
   "cell_type": "code",
   "execution_count": 68,
   "metadata": {},
   "outputs": [],
   "source": [
    "GAvg = sample_train_sparse_matrix.sum()/sample_train_sparse_matrix.count_nonzero()"
   ]
  },
  {
   "cell_type": "code",
   "execution_count": 69,
   "metadata": {},
   "outputs": [
    {
     "data": {
      "text/plain": [
       "3.5875813607223455"
      ]
     },
     "execution_count": 69,
     "metadata": {},
     "output_type": "execute_result"
    }
   ],
   "source": [
    "GAvg"
   ]
  },
  {
   "cell_type": "code",
   "execution_count": 70,
   "metadata": {},
   "outputs": [
    {
     "data": {
      "text/plain": [
       "856986"
      ]
     },
     "execution_count": 70,
     "metadata": {},
     "output_type": "execute_result"
    }
   ],
   "source": [
    "len(sample_train_ratings)"
   ]
  },
  {
   "cell_type": "code",
   "execution_count": 178,
   "metadata": {},
   "outputs": [
    {
     "data": {
      "text/plain": [
       "857070"
      ]
     },
     "execution_count": 178,
     "metadata": {},
     "output_type": "execute_result"
    }
   ],
   "source": [
    "18 * 47615"
   ]
  },
  {
   "cell_type": "code",
   "execution_count": null,
   "metadata": {},
   "outputs": [],
   "source": [
    "%%time\n",
    "# Overnight Computation: Approx time - 10 hours approx.\n",
    "\n",
    "def get_train_data(worker, all_users, all_movies, all_ratings, trainsets):\n",
    "\n",
    "    for user, movie, rating in zip(all_users, \n",
    "                                   all_movies, \n",
    "                                   all_ratings):\n",
    "        \n",
    "#         print(user, movie, rating)\n",
    "        ## Get the ratings from top 10 similar users who rated the same movie ##\n",
    "        # Movie constant, users changing\n",
    "        row = []\n",
    "        U = sample_train_sparse_matrix[user] # movie vector the user\n",
    "        similar_users = cosine_similarity(U, sample_train_sparse_matrix).ravel()\n",
    "        # These are top users for the `user`\n",
    "        top_users_sorted = np.argsort(-similar_users)[1::]\n",
    "        # Now get the ratings for these top users for the `movie`\n",
    "        R_user = sample_train_sparse_matrix[top_users_sorted, movie].toarray().ravel()\n",
    "        R_user = R_user[R_user != 0][:10]\n",
    "        R_user = R_user.tolist()\n",
    "        R_user.extend([movieAvg[movie]] * (10 - len(R_user)))\n",
    "        ## Get the top ratings of the user who rated similar movies ##\n",
    "        # User constant, movies changing\n",
    "\n",
    "        M = sample_train_sparse_matrix[:, movie]\n",
    "        similar_movies = cosine_similarity(M.T, sample_train_sparse_matrix.T).ravel()\n",
    "        top_movies_sorted = np.argsort(-similar_movies)[1::]\n",
    "        R_movie = sample_train_sparse_matrix[user, top_movies_sorted].toarray().ravel()\n",
    "        R_movie = R_movie[R_movie != 0][:10]\n",
    "        R_movie = R_movie.tolist()\n",
    "        R_movie.extend([userAvg[user]] * (10 - len(R_movie)))\n",
    "\n",
    "\n",
    "        row.extend([user, movie])\n",
    "        row.extend(R_user)\n",
    "        row.extend(R_movie)\n",
    "        row.extend([movieAvg[movie], userAvg[user], GAvg])\n",
    "        row.extend([rating])\n",
    "\n",
    "        trainsets.append(row)\n",
    "    print('Worker = {} is completed'.format(worker))\n",
    "\n",
    "if __name__ == '__main__':\n",
    "    manager = Manager()\n",
    "    trainsets = manager.list()\n",
    "    jobs = []\n",
    "    for i in range(18):\n",
    "        p = Process(target=get_train_data, args=(i, \n",
    "                                                 sample_train_users[i*47615:(i+1)*47615],\n",
    "                                                 sample_train_movies[i*47615:(i+1)*47615],\n",
    "                                                 sample_train_ratings[i*47615:(i+1)*47615],\n",
    "                                                 trainsets,))\n",
    "        jobs.append(p)\n",
    "        p.start()\n",
    "    for proc in jobs:\n",
    "        proc.join()"
   ]
  },
  {
   "cell_type": "code",
   "execution_count": 180,
   "metadata": {},
   "outputs": [],
   "source": [
    "assert(len(trainsets) == len(sample_train_users))"
   ]
  },
  {
   "cell_type": "code",
   "execution_count": null,
   "metadata": {},
   "outputs": [],
   "source": [
    "with open('./dataset/train_25000_3000.csv', 'w') as csvFile:\n",
    "    csvwriter = csv.writer(csvFile, delimiter=',', quotechar='|', quoting=csv.QUOTE_MINIMAL)\n",
    "    for each in tqdm(list(trainsets), total=len(sample_train_users)):\n",
    "        csvwriter.writerow(each)"
   ]
  },
  {
   "cell_type": "code",
   "execution_count": 183,
   "metadata": {},
   "outputs": [
    {
     "name": "stdout",
     "output_type": "stream",
     "text": [
      "856986 ./dataset/train_25000_3000.csv\r\n"
     ]
    }
   ],
   "source": [
    "!wc -l ./dataset/train_25000_3000.csv"
   ]
  },
  {
   "cell_type": "markdown",
   "metadata": {},
   "source": [
    "#### On the testing dataset of dimension (25000 x 3000)"
   ]
  },
  {
   "cell_type": "code",
   "execution_count": 56,
   "metadata": {},
   "outputs": [],
   "source": [
    "sample_test_sparse_matrix = load_npz('./dataset/sample_sparse_test_matrix_25000_3000.npz')"
   ]
  },
  {
   "cell_type": "code",
   "execution_count": 57,
   "metadata": {},
   "outputs": [
    {
     "data": {
      "text/plain": [
       "(2649405, 17761)"
      ]
     },
     "execution_count": 57,
     "metadata": {},
     "output_type": "execute_result"
    }
   ],
   "source": [
    "sample_test_sparse_matrix.shape"
   ]
  },
  {
   "cell_type": "code",
   "execution_count": 58,
   "metadata": {},
   "outputs": [],
   "source": [
    "sample_test_users, sample_test_movies, sample_test_ratings = find(sample_test_sparse_matrix)"
   ]
  },
  {
   "cell_type": "code",
   "execution_count": 71,
   "metadata": {},
   "outputs": [
    {
     "data": {
      "text/plain": [
       "261693"
      ]
     },
     "execution_count": 71,
     "metadata": {},
     "output_type": "execute_result"
    }
   ],
   "source": [
    "len(sample_test_users)"
   ]
  },
  {
   "cell_type": "code",
   "execution_count": 75,
   "metadata": {},
   "outputs": [
    {
     "data": {
      "text/plain": [
       "261702"
      ]
     },
     "execution_count": 75,
     "metadata": {},
     "output_type": "execute_result"
    }
   ],
   "source": [
    "18 * 14539 "
   ]
  },
  {
   "cell_type": "code",
   "execution_count": 76,
   "metadata": {},
   "outputs": [
    {
     "name": "stdout",
     "output_type": "stream",
     "text": [
      "Worker = 15 is completed\n",
      "Worker = 16 is completed\n",
      "Worker = 17 is completed\n",
      "Worker = 8 is completed\n",
      "Worker = 14 is completed\n",
      "Worker = 13 is completed\n",
      "Worker = 10 is completed\n",
      "Worker = 11 is completed\n",
      "Worker = 9 is completed\n",
      "Worker = 2 is completed\n",
      "Worker = 12 is completed\n",
      "Worker = 5 is completed\n",
      "Worker = 3 is completed\n",
      "Worker = 6 is completed\n",
      "Worker = 0 is completed\n",
      "Worker = 1 is completed\n",
      "Worker = 4 is completed\n",
      "Worker = 7 is completed\n",
      "CPU times: user 500 ms, sys: 472 ms, total: 972 ms\n",
      "Wall time: 2h 43min 17s\n"
     ]
    }
   ],
   "source": [
    "%%time\n",
    "def get_test_data(worker, all_users, all_movies, all_ratings, testsets):\n",
    "\n",
    "    for user, movie, rating in zip(all_users, \n",
    "                                    all_movies, \n",
    "                                    all_ratings):\n",
    "        \n",
    "        ## Get the ratings from top 10 similar users who rated the same movie ##\n",
    "        # Movie constant, users changing\n",
    "        row = []\n",
    "        try:\n",
    "            U = sample_train_sparse_matrix[user] # movie vector the user\n",
    "            similar_users = cosine_similarity(U, sample_train_sparse_matrix).ravel()\n",
    "            # These are top users for the `user`\n",
    "            top_users_sorted = np.argsort(-similar_users)[1::]\n",
    "            # Now get the ratings for these top users for the `movie`\n",
    "            R_user = sample_train_sparse_matrix[top_users_sorted, movie].toarray().ravel()\n",
    "            R_user = R_user[R_user != 0][:10]\n",
    "            R_user = R_user.tolist()\n",
    "            R_user.extend([movieAvg[movie]] * (10 - len(R_user)))\n",
    "        except (IndexError, KeyError):\n",
    "            R_user.extend([GAvg] * (10 - len(R_user)))\n",
    "        # ~~~~~~~~~~~~~~~~~~~~~~~~~~~~~~~~~~~~~~~~~~~~~~~~~~~~~~~~~~~~~ #\n",
    "        ## Get the top ratings of the user who rated similar movies ##\n",
    "        # User constant, movies changing\n",
    "        \n",
    "        try:\n",
    "            M = sample_train_sparse_matrix[:, movie]\n",
    "            similar_movies = cosine_similarity(M.T, sample_train_sparse_matrix.T).ravel()\n",
    "            top_movies_sorted = np.argsort(-similar_movies)[1::]\n",
    "            R_movie = sample_train_sparse_matrix[user, top_movies_sorted].toarray().ravel()\n",
    "            R_movie = R_movie[R_movie != 0][:10]\n",
    "            R_movie = R_movie.tolist()\n",
    "            R_movie.extend([userAvg[user]] * (10 - len(R_movie)))\n",
    "        except (IndexError, KeyError):\n",
    "            R_movie.extend([GAvg] * (10 - len(R_movie)))\n",
    "        # ~~~~~~~~~~~~~~~~~~~~~~~~~~~~~~~~~~~~~~~~~~~~~~~~~~~~~~~~~~~~~ #\n",
    "\n",
    "        row.extend([user, movie])\n",
    "        row.extend(R_user)\n",
    "        row.extend(R_movie)\n",
    "        try:\n",
    "            mavg = movieAvg[movie]\n",
    "        except KeyError:\n",
    "            mavg = GAvg\n",
    "        try:\n",
    "            uavg = userAvg[user]\n",
    "        except KeyError:\n",
    "            uavg = GAvg\n",
    "        \n",
    "        row.extend([mavg, uavg, GAvg])\n",
    "        row.extend([rating])\n",
    "\n",
    "        testsets.append(row)\n",
    "    print('Worker = {} is completed'.format(worker))\n",
    "\n",
    "if __name__ == '__main__':\n",
    "    manager = Manager()\n",
    "    testsets = manager.list()\n",
    "    jobs = []\n",
    "    for i in range(18):\n",
    "        p = Process(target=get_test_data, args=(i, \n",
    "                                                 sample_test_users[i*14539:(i+1)*14539],\n",
    "                                                 sample_test_movies[i*14539:(i+1)*14539],\n",
    "                                                 sample_test_ratings[i*14539:(i+1)*14539],\n",
    "                                                 testsets,))\n",
    "        jobs.append(p)\n",
    "        p.start()\n",
    "    for proc in jobs:\n",
    "        proc.join()"
   ]
  },
  {
   "cell_type": "code",
   "execution_count": 77,
   "metadata": {},
   "outputs": [],
   "source": [
    "assert(len(testsets) == len(sample_test_users))"
   ]
  },
  {
   "cell_type": "code",
   "execution_count": 78,
   "metadata": {},
   "outputs": [
    {
     "name": "stderr",
     "output_type": "stream",
     "text": [
      "100%|██████████| 261693/261693 [00:07<00:00, 34412.85it/s]\n"
     ]
    }
   ],
   "source": [
    "with open('./dataset/test_25000_3000.csv', 'w') as csvFile:\n",
    "    csvwriter = csv.writer(csvFile, delimiter=',', quotechar='|', quoting=csv.QUOTE_MINIMAL)\n",
    "    for each in tqdm(list(testsets), total=len(sample_test_users)):\n",
    "        csvwriter.writerow(each)"
   ]
  },
  {
   "cell_type": "code",
   "execution_count": 3,
   "metadata": {},
   "outputs": [],
   "source": [
    "reg_train_df = pd.read_csv('./dataset/train_25000_3000.csv', \n",
    "                           names = ['user', 'movie',\n",
    "                                    'sur1', 'sur2', 'sur3', 'sur4', 'sur5',\n",
    "                                    'sur6', 'sur7', 'sur8', 'sur9', 'sur10',\n",
    "                                    'smr1', 'smr2', 'smr3', 'smr4', 'smr5',\n",
    "                                    'smr6', 'smr7', 'smr8', 'smr9', 'smr10',\n",
    "                                    'MAvg', 'UAvg', 'GAvg', 'rating'], header=None)"
   ]
  },
  {
   "cell_type": "code",
   "execution_count": 4,
   "metadata": {},
   "outputs": [
    {
     "data": {
      "text/html": [
       "<div>\n",
       "<style scoped>\n",
       "    .dataframe tbody tr th:only-of-type {\n",
       "        vertical-align: middle;\n",
       "    }\n",
       "\n",
       "    .dataframe tbody tr th {\n",
       "        vertical-align: top;\n",
       "    }\n",
       "\n",
       "    .dataframe thead th {\n",
       "        text-align: right;\n",
       "    }\n",
       "</style>\n",
       "<table border=\"1\" class=\"dataframe\">\n",
       "  <thead>\n",
       "    <tr style=\"text-align: right;\">\n",
       "      <th></th>\n",
       "      <th>user</th>\n",
       "      <th>movie</th>\n",
       "      <th>sur1</th>\n",
       "      <th>sur2</th>\n",
       "      <th>sur3</th>\n",
       "      <th>sur4</th>\n",
       "      <th>sur5</th>\n",
       "      <th>sur6</th>\n",
       "      <th>sur7</th>\n",
       "      <th>sur8</th>\n",
       "      <th>...</th>\n",
       "      <th>smr5</th>\n",
       "      <th>smr6</th>\n",
       "      <th>smr7</th>\n",
       "      <th>smr8</th>\n",
       "      <th>smr9</th>\n",
       "      <th>smr10</th>\n",
       "      <th>MAvg</th>\n",
       "      <th>UAvg</th>\n",
       "      <th>GAvg</th>\n",
       "      <th>rating</th>\n",
       "    </tr>\n",
       "  </thead>\n",
       "  <tbody>\n",
       "    <tr>\n",
       "      <th>0</th>\n",
       "      <td>174683</td>\n",
       "      <td>10</td>\n",
       "      <td>5.0</td>\n",
       "      <td>5.0</td>\n",
       "      <td>3.0</td>\n",
       "      <td>4.0</td>\n",
       "      <td>4.0</td>\n",
       "      <td>4.0</td>\n",
       "      <td>4.0</td>\n",
       "      <td>4.0</td>\n",
       "      <td>...</td>\n",
       "      <td>2.0</td>\n",
       "      <td>4.0</td>\n",
       "      <td>3.0</td>\n",
       "      <td>4.0</td>\n",
       "      <td>2.0</td>\n",
       "      <td>5.0</td>\n",
       "      <td>3.611111</td>\n",
       "      <td>3.882353</td>\n",
       "      <td>3.587581</td>\n",
       "      <td>5</td>\n",
       "    </tr>\n",
       "    <tr>\n",
       "      <th>1</th>\n",
       "      <td>1555957</td>\n",
       "      <td>1266</td>\n",
       "      <td>3.0</td>\n",
       "      <td>5.0</td>\n",
       "      <td>5.0</td>\n",
       "      <td>4.0</td>\n",
       "      <td>2.0</td>\n",
       "      <td>3.0</td>\n",
       "      <td>3.0</td>\n",
       "      <td>3.0</td>\n",
       "      <td>...</td>\n",
       "      <td>5.0</td>\n",
       "      <td>4.0</td>\n",
       "      <td>3.0</td>\n",
       "      <td>5.0</td>\n",
       "      <td>4.0</td>\n",
       "      <td>3.0</td>\n",
       "      <td>3.163265</td>\n",
       "      <td>3.714286</td>\n",
       "      <td>3.587581</td>\n",
       "      <td>3</td>\n",
       "    </tr>\n",
       "    <tr>\n",
       "      <th>2</th>\n",
       "      <td>659804</td>\n",
       "      <td>2779</td>\n",
       "      <td>4.0</td>\n",
       "      <td>3.0</td>\n",
       "      <td>2.0</td>\n",
       "      <td>3.0</td>\n",
       "      <td>3.0</td>\n",
       "      <td>4.0</td>\n",
       "      <td>2.0</td>\n",
       "      <td>3.0</td>\n",
       "      <td>...</td>\n",
       "      <td>5.0</td>\n",
       "      <td>4.0</td>\n",
       "      <td>3.0</td>\n",
       "      <td>4.0</td>\n",
       "      <td>4.0</td>\n",
       "      <td>4.0</td>\n",
       "      <td>2.774065</td>\n",
       "      <td>2.945946</td>\n",
       "      <td>3.587581</td>\n",
       "      <td>2</td>\n",
       "    </tr>\n",
       "    <tr>\n",
       "      <th>3</th>\n",
       "      <td>1948839</td>\n",
       "      <td>3368</td>\n",
       "      <td>2.0</td>\n",
       "      <td>4.0</td>\n",
       "      <td>4.0</td>\n",
       "      <td>4.0</td>\n",
       "      <td>3.0</td>\n",
       "      <td>4.0</td>\n",
       "      <td>3.0</td>\n",
       "      <td>4.0</td>\n",
       "      <td>...</td>\n",
       "      <td>5.0</td>\n",
       "      <td>3.0</td>\n",
       "      <td>4.0</td>\n",
       "      <td>4.0</td>\n",
       "      <td>3.0</td>\n",
       "      <td>4.0</td>\n",
       "      <td>3.515200</td>\n",
       "      <td>3.850467</td>\n",
       "      <td>3.587581</td>\n",
       "      <td>4</td>\n",
       "    </tr>\n",
       "    <tr>\n",
       "      <th>4</th>\n",
       "      <td>1939698</td>\n",
       "      <td>5317</td>\n",
       "      <td>4.0</td>\n",
       "      <td>4.0</td>\n",
       "      <td>4.0</td>\n",
       "      <td>4.0</td>\n",
       "      <td>3.0</td>\n",
       "      <td>2.0</td>\n",
       "      <td>4.0</td>\n",
       "      <td>4.0</td>\n",
       "      <td>...</td>\n",
       "      <td>3.0</td>\n",
       "      <td>4.0</td>\n",
       "      <td>3.0</td>\n",
       "      <td>4.0</td>\n",
       "      <td>4.0</td>\n",
       "      <td>5.0</td>\n",
       "      <td>3.386404</td>\n",
       "      <td>3.666667</td>\n",
       "      <td>3.587581</td>\n",
       "      <td>2</td>\n",
       "    </tr>\n",
       "  </tbody>\n",
       "</table>\n",
       "<p>5 rows × 26 columns</p>\n",
       "</div>"
      ],
      "text/plain": [
       "      user  movie  sur1  sur2  sur3  sur4  sur5  sur6  sur7  sur8   ...    \\\n",
       "0   174683     10   5.0   5.0   3.0   4.0   4.0   4.0   4.0   4.0   ...     \n",
       "1  1555957   1266   3.0   5.0   5.0   4.0   2.0   3.0   3.0   3.0   ...     \n",
       "2   659804   2779   4.0   3.0   2.0   3.0   3.0   4.0   2.0   3.0   ...     \n",
       "3  1948839   3368   2.0   4.0   4.0   4.0   3.0   4.0   3.0   4.0   ...     \n",
       "4  1939698   5317   4.0   4.0   4.0   4.0   3.0   2.0   4.0   4.0   ...     \n",
       "\n",
       "   smr5  smr6  smr7  smr8  smr9  smr10      MAvg      UAvg      GAvg  rating  \n",
       "0   2.0   4.0   3.0   4.0   2.0    5.0  3.611111  3.882353  3.587581       5  \n",
       "1   5.0   4.0   3.0   5.0   4.0    3.0  3.163265  3.714286  3.587581       3  \n",
       "2   5.0   4.0   3.0   4.0   4.0    4.0  2.774065  2.945946  3.587581       2  \n",
       "3   5.0   3.0   4.0   4.0   3.0    4.0  3.515200  3.850467  3.587581       4  \n",
       "4   3.0   4.0   3.0   4.0   4.0    5.0  3.386404  3.666667  3.587581       2  \n",
       "\n",
       "[5 rows x 26 columns]"
      ]
     },
     "execution_count": 4,
     "metadata": {},
     "output_type": "execute_result"
    }
   ],
   "source": [
    "reg_train_df.head()"
   ]
  },
  {
   "cell_type": "code",
   "execution_count": 5,
   "metadata": {},
   "outputs": [
    {
     "data": {
      "text/plain": [
       "(856986, 26)"
      ]
     },
     "execution_count": 5,
     "metadata": {},
     "output_type": "execute_result"
    }
   ],
   "source": [
    "reg_train_df.shape"
   ]
  },
  {
   "cell_type": "code",
   "execution_count": 6,
   "metadata": {},
   "outputs": [],
   "source": [
    "reg_test_df = pd.read_csv('./dataset/test_25000_3000.csv', \n",
    "                           names = ['user', 'movie',\n",
    "                                    'sur1', 'sur2', 'sur3', 'sur4', 'sur5',\n",
    "                                    'sur6', 'sur7', 'sur8', 'sur9', 'sur10',\n",
    "                                    'smr1', 'smr2', 'smr3', 'smr4', 'smr5',\n",
    "                                    'smr6', 'smr7', 'smr8', 'smr9', 'smr10',\n",
    "                                    'MAvg', 'UAvg', 'GAvg', 'rating'], header=None)"
   ]
  },
  {
   "cell_type": "code",
   "execution_count": 7,
   "metadata": {},
   "outputs": [
    {
     "data": {
      "text/html": [
       "<div>\n",
       "<style scoped>\n",
       "    .dataframe tbody tr th:only-of-type {\n",
       "        vertical-align: middle;\n",
       "    }\n",
       "\n",
       "    .dataframe tbody tr th {\n",
       "        vertical-align: top;\n",
       "    }\n",
       "\n",
       "    .dataframe thead th {\n",
       "        text-align: right;\n",
       "    }\n",
       "</style>\n",
       "<table border=\"1\" class=\"dataframe\">\n",
       "  <thead>\n",
       "    <tr style=\"text-align: right;\">\n",
       "      <th></th>\n",
       "      <th>user</th>\n",
       "      <th>movie</th>\n",
       "      <th>sur1</th>\n",
       "      <th>sur2</th>\n",
       "      <th>sur3</th>\n",
       "      <th>sur4</th>\n",
       "      <th>sur5</th>\n",
       "      <th>sur6</th>\n",
       "      <th>sur7</th>\n",
       "      <th>sur8</th>\n",
       "      <th>...</th>\n",
       "      <th>smr5</th>\n",
       "      <th>smr6</th>\n",
       "      <th>smr7</th>\n",
       "      <th>smr8</th>\n",
       "      <th>smr9</th>\n",
       "      <th>smr10</th>\n",
       "      <th>MAvg</th>\n",
       "      <th>UAvg</th>\n",
       "      <th>GAvg</th>\n",
       "      <th>rating</th>\n",
       "    </tr>\n",
       "  </thead>\n",
       "  <tbody>\n",
       "    <tr>\n",
       "      <th>0</th>\n",
       "      <td>1129620</td>\n",
       "      <td>2</td>\n",
       "      <td>3.587581</td>\n",
       "      <td>3.587581</td>\n",
       "      <td>3.587581</td>\n",
       "      <td>3.587581</td>\n",
       "      <td>3.587581</td>\n",
       "      <td>3.587581</td>\n",
       "      <td>3.587581</td>\n",
       "      <td>3.587581</td>\n",
       "      <td>...</td>\n",
       "      <td>3.587581</td>\n",
       "      <td>3.587581</td>\n",
       "      <td>3.587581</td>\n",
       "      <td>3.587581</td>\n",
       "      <td>3.587581</td>\n",
       "      <td>3.587581</td>\n",
       "      <td>3.587581</td>\n",
       "      <td>3.587581</td>\n",
       "      <td>3.587581</td>\n",
       "      <td>3</td>\n",
       "    </tr>\n",
       "    <tr>\n",
       "      <th>1</th>\n",
       "      <td>2407458</td>\n",
       "      <td>5582</td>\n",
       "      <td>3.587581</td>\n",
       "      <td>3.587581</td>\n",
       "      <td>3.587581</td>\n",
       "      <td>3.587581</td>\n",
       "      <td>3.587581</td>\n",
       "      <td>3.587581</td>\n",
       "      <td>3.587581</td>\n",
       "      <td>3.587581</td>\n",
       "      <td>...</td>\n",
       "      <td>3.587581</td>\n",
       "      <td>3.587581</td>\n",
       "      <td>3.587581</td>\n",
       "      <td>3.587581</td>\n",
       "      <td>3.587581</td>\n",
       "      <td>3.587581</td>\n",
       "      <td>3.587581</td>\n",
       "      <td>3.587581</td>\n",
       "      <td>3.587581</td>\n",
       "      <td>4</td>\n",
       "    </tr>\n",
       "    <tr>\n",
       "      <th>2</th>\n",
       "      <td>668855</td>\n",
       "      <td>6677</td>\n",
       "      <td>2.000000</td>\n",
       "      <td>5.000000</td>\n",
       "      <td>1.000000</td>\n",
       "      <td>4.000000</td>\n",
       "      <td>3.000000</td>\n",
       "      <td>3.000000</td>\n",
       "      <td>3.000000</td>\n",
       "      <td>4.000000</td>\n",
       "      <td>...</td>\n",
       "      <td>3.587581</td>\n",
       "      <td>3.587581</td>\n",
       "      <td>3.587581</td>\n",
       "      <td>3.587581</td>\n",
       "      <td>3.587581</td>\n",
       "      <td>3.587581</td>\n",
       "      <td>3.376000</td>\n",
       "      <td>3.587581</td>\n",
       "      <td>3.587581</td>\n",
       "      <td>3</td>\n",
       "    </tr>\n",
       "    <tr>\n",
       "      <th>3</th>\n",
       "      <td>1704929</td>\n",
       "      <td>3756</td>\n",
       "      <td>3.587581</td>\n",
       "      <td>3.587581</td>\n",
       "      <td>3.587581</td>\n",
       "      <td>3.587581</td>\n",
       "      <td>3.587581</td>\n",
       "      <td>3.587581</td>\n",
       "      <td>3.587581</td>\n",
       "      <td>3.587581</td>\n",
       "      <td>...</td>\n",
       "      <td>3.587581</td>\n",
       "      <td>3.587581</td>\n",
       "      <td>3.587581</td>\n",
       "      <td>3.587581</td>\n",
       "      <td>3.587581</td>\n",
       "      <td>3.587581</td>\n",
       "      <td>3.587581</td>\n",
       "      <td>3.587581</td>\n",
       "      <td>3.587581</td>\n",
       "      <td>4</td>\n",
       "    </tr>\n",
       "    <tr>\n",
       "      <th>4</th>\n",
       "      <td>2587366</td>\n",
       "      <td>8915</td>\n",
       "      <td>5.000000</td>\n",
       "      <td>4.000000</td>\n",
       "      <td>4.000000</td>\n",
       "      <td>4.000000</td>\n",
       "      <td>5.000000</td>\n",
       "      <td>5.000000</td>\n",
       "      <td>4.000000</td>\n",
       "      <td>5.000000</td>\n",
       "      <td>...</td>\n",
       "      <td>3.587581</td>\n",
       "      <td>3.587581</td>\n",
       "      <td>3.587581</td>\n",
       "      <td>3.587581</td>\n",
       "      <td>3.587581</td>\n",
       "      <td>3.587581</td>\n",
       "      <td>3.979495</td>\n",
       "      <td>3.587581</td>\n",
       "      <td>3.587581</td>\n",
       "      <td>4</td>\n",
       "    </tr>\n",
       "  </tbody>\n",
       "</table>\n",
       "<p>5 rows × 26 columns</p>\n",
       "</div>"
      ],
      "text/plain": [
       "      user  movie      sur1      sur2      sur3      sur4      sur5      sur6  \\\n",
       "0  1129620      2  3.587581  3.587581  3.587581  3.587581  3.587581  3.587581   \n",
       "1  2407458   5582  3.587581  3.587581  3.587581  3.587581  3.587581  3.587581   \n",
       "2   668855   6677  2.000000  5.000000  1.000000  4.000000  3.000000  3.000000   \n",
       "3  1704929   3756  3.587581  3.587581  3.587581  3.587581  3.587581  3.587581   \n",
       "4  2587366   8915  5.000000  4.000000  4.000000  4.000000  5.000000  5.000000   \n",
       "\n",
       "       sur7      sur8   ...        smr5      smr6      smr7      smr8  \\\n",
       "0  3.587581  3.587581   ...    3.587581  3.587581  3.587581  3.587581   \n",
       "1  3.587581  3.587581   ...    3.587581  3.587581  3.587581  3.587581   \n",
       "2  3.000000  4.000000   ...    3.587581  3.587581  3.587581  3.587581   \n",
       "3  3.587581  3.587581   ...    3.587581  3.587581  3.587581  3.587581   \n",
       "4  4.000000  5.000000   ...    3.587581  3.587581  3.587581  3.587581   \n",
       "\n",
       "       smr9     smr10      MAvg      UAvg      GAvg  rating  \n",
       "0  3.587581  3.587581  3.587581  3.587581  3.587581       3  \n",
       "1  3.587581  3.587581  3.587581  3.587581  3.587581       4  \n",
       "2  3.587581  3.587581  3.376000  3.587581  3.587581       3  \n",
       "3  3.587581  3.587581  3.587581  3.587581  3.587581       4  \n",
       "4  3.587581  3.587581  3.979495  3.587581  3.587581       4  \n",
       "\n",
       "[5 rows x 26 columns]"
      ]
     },
     "execution_count": 7,
     "metadata": {},
     "output_type": "execute_result"
    }
   ],
   "source": [
    "reg_test_df.head()"
   ]
  }
 ],
 "metadata": {
  "kernelspec": {
   "display_name": "Python 3",
   "language": "python",
   "name": "python3"
  },
  "language_info": {
   "codemirror_mode": {
    "name": "ipython",
    "version": 3
   },
   "file_extension": ".py",
   "mimetype": "text/x-python",
   "name": "python",
   "nbconvert_exporter": "python",
   "pygments_lexer": "ipython3",
   "version": "3.5.3"
  }
 },
 "nbformat": 4,
 "nbformat_minor": 2
}
